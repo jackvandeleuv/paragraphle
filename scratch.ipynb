{
 "cells": [
  {
   "cell_type": "code",
   "execution_count": 98,
   "metadata": {},
   "outputs": [],
   "source": [
    "import requests\n",
    "\n",
    "for _ in range(10):\n",
    "    requests.get('http://127.0.0.1:5000/suggestion/z/limit/5').text"
   ]
  },
  {
   "cell_type": "code",
   "execution_count": 3,
   "metadata": {},
   "outputs": [],
   "source": [
    "import sqlite3\n",
    "\n",
    "conn = sqlite3.Connection('stable/data/data.db')\n",
    "cur = conn.cursor()\n",
    "cur.execute(\"select id, clean_title, count from articles order by count desc\")\n",
    "articles = cur.fetchall()\n",
    "articles = list(sorted(\n",
    "    articles, key=lambda x: x[1]\n",
    "))"
   ]
  },
  {
   "cell_type": "markdown",
   "metadata": {},
   "source": [
    "Binary exact match search"
   ]
  },
  {
   "cell_type": "code",
   "execution_count": 34,
   "metadata": {},
   "outputs": [],
   "source": [
    "def bin_search(array, string):\n",
    "    left = 0\n",
    "    right = len(array)\n",
    "    mid = ((right - left) // 2) + left\n",
    "\n",
    "    while left < right:\n",
    "        if string == array[mid][1]:\n",
    "            return mid\n",
    "        elif string < array[mid][1]:\n",
    "            right = mid\n",
    "            mid = ((right - left) // 2) + left\n",
    "        else:\n",
    "            left = mid + 1\n",
    "            mid = ((right - left) // 2) + left\n",
    "    return None\n",
    "\n",
    "\n",
    "import random\n",
    "\n",
    "for _ in range(1000000):\n",
    "    to_find = random.randint(0, len(articles) - 1)\n",
    "    \n",
    "    idx = bin_search(articles, articles[to_find][1])\n",
    "    assert articles[idx][1] == articles[to_find][1], (to_find, articles[to_find], idx, articles[idx])"
   ]
  },
  {
   "cell_type": "markdown",
   "metadata": {},
   "source": [
    "Binary prefix search with full slice sorting. 3 seconds for 2000 searches."
   ]
  },
  {
   "cell_type": "code",
   "execution_count": 86,
   "metadata": {},
   "outputs": [],
   "source": [
    "def bin_prefix_search(array, prefix, limit):\n",
    "    left = 0\n",
    "    right = len(array)\n",
    "    mid = ((right - left) // 2) + left\n",
    "    size = len(prefix)\n",
    "\n",
    "    found = False\n",
    "    while left < right:\n",
    "        if prefix == array[mid][1][: size]:\n",
    "            found = True\n",
    "            break\n",
    "        elif prefix < array[mid][1][: size]:\n",
    "            right = mid\n",
    "            mid = ((right - left) // 2) + left\n",
    "        else:\n",
    "            left = mid + 1\n",
    "            mid = ((right - left) // 2) + left\n",
    "\n",
    "    if not found:\n",
    "        return None\n",
    "            \n",
    "    left = mid\n",
    "    while 0 < left - 1 and prefix == array[left - 1][1][: size]:\n",
    "        left -= 1\n",
    "        \n",
    "    # Don't add one to comparisons with right if using slices because it is exclusive\n",
    "    right = mid\n",
    "    while right + 1 <= len(array) and prefix == array[right][1][: size]:\n",
    "        right += 1\n",
    "\n",
    "    return list(\n",
    "        sorted(\n",
    "            array[left : right],\n",
    "            key=lambda x: x[2],\n",
    "            reverse=True\n",
    "        )[: limit]\n",
    "    )\n",
    "\n",
    "\n",
    "import random\n",
    "\n",
    "for _ in range(2000):\n",
    "    prefix_size = random.randint(1, 10)\n",
    "    idx = random.randint(0, len(articles))\n",
    "    prefix = articles[idx][1][: prefix_size]\n",
    "\n",
    "    for result in bin_prefix_search(articles, prefix, 5):\n",
    "        assert result[1][: min(len(prefix), prefix_size)] == prefix, (prefix, result[1], prefix_size)\n",
    "\n"
   ]
  },
  {
   "cell_type": "code",
   "execution_count": 17,
   "metadata": {},
   "outputs": [],
   "source": [
    "from tree import Item, BTree\n",
    "\n",
    "tree = BTree()\n",
    "\n",
    "for i in range(len(articles)):\n",
    "    id, string, count = articles[i]\n",
    "    if string.lower().strip() == 'tokyo':\n",
    "        print(string)\n",
    "    tree.insert(Item(id, string, count))\n",
    "\n"
   ]
  },
  {
   "cell_type": "code",
   "execution_count": 4,
   "metadata": {},
   "outputs": [],
   "source": [
    "tree.print()"
   ]
  },
  {
   "cell_type": "code",
   "execution_count": 3,
   "metadata": {},
   "outputs": [
    {
     "ename": "NameError",
     "evalue": "name 'tree' is not defined",
     "output_type": "error",
     "traceback": [
      "\u001b[1;31m---------------------------------------------------------------------------\u001b[0m",
      "\u001b[1;31mNameError\u001b[0m                                 Traceback (most recent call last)",
      "Cell \u001b[1;32mIn[3], line 1\u001b[0m\n\u001b[1;32m----> 1\u001b[0m \u001b[38;5;28mprint\u001b[39m(tree\u001b[38;5;241m.\u001b[39mfind(\u001b[38;5;124m'\u001b[39m\u001b[38;5;124mjapan\u001b[39m\u001b[38;5;124m'\u001b[39m))\n",
      "\u001b[1;31mNameError\u001b[0m: name 'tree' is not defined"
     ]
    }
   ],
   "source": [
    "print(tree.find('japan'))"
   ]
  }
 ],
 "metadata": {
  "kernelspec": {
   "display_name": "base",
   "language": "python",
   "name": "python3"
  },
  "language_info": {
   "codemirror_mode": {
    "name": "ipython",
    "version": 3
   },
   "file_extension": ".py",
   "mimetype": "text/x-python",
   "name": "python",
   "nbconvert_exporter": "python",
   "pygments_lexer": "ipython3",
   "version": "3.12.4"
  }
 },
 "nbformat": 4,
 "nbformat_minor": 2
}
