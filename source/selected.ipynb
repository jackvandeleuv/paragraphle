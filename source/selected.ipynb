{
 "cells": [
  {
   "cell_type": "code",
   "execution_count": 1,
   "metadata": {},
   "outputs": [
    {
     "name": "stdout",
     "output_type": "stream",
     "text": [
      "306647\n"
     ]
    }
   ],
   "source": [
    "import pandas as pd\n",
    "\n",
    "selected = {}\n",
    "with open('../transformed/data/links.txt', 'r', encoding='utf-8', errors='replace') as file:\n",
    "    for line in file:\n",
    "        try:\n",
    "            # Filter out hashtag pages\n",
    "            if line[0] == '#':\n",
    "                continue\n",
    "\n",
    "            # Filter out category pages\n",
    "            skip = False\n",
    "            for substring in ['Category:', 'File:', 'Wikipedia:']:\n",
    "                if substring in line:\n",
    "                    skip = True\n",
    "            if skip:\n",
    "                continue\n",
    "                \n",
    "            # Filter out aliases and sublinks\n",
    "            for substring in ['#', '|']:\n",
    "                if substring in line:\n",
    "                    line = line.split(substring, 1)[0]\n",
    "\n",
    "            line = line.strip()\n",
    "\n",
    "            if line in selected:\n",
    "                selected[line] += 1\n",
    "            else:\n",
    "                selected[line] = 1\n",
    "        except Exception as e:\n",
    "            print(e)\n",
    "\n",
    "selected = pd.DataFrame(\n",
    "    list(\n",
    "        filter(\n",
    "            lambda x: x['count'] >= 10,\n",
    "            sorted(\n",
    "                [{'lower_title': x.lower().strip(), 'count': y} for x, y in selected.items()],\n",
    "                key=lambda x: x['count'],\n",
    "                reverse=True\n",
    "            )   \n",
    "        )\n",
    "    )\n",
    ")\n",
    "\n",
    "selected = set(selected.lower_title.values.tolist())\n",
    "selected = [x for x in selected if x.strip() != '']\n",
    "\n",
    "with open('../transformed/data/selected.txt', 'w', encoding='utf-8') as file:\n",
    "    for title in selected:\n",
    "        file.write(title + '\\n')\n",
    "\n",
    "print(len(selected))"
   ]
  }
 ],
 "metadata": {
  "kernelspec": {
   "display_name": "base",
   "language": "python",
   "name": "python3"
  },
  "language_info": {
   "codemirror_mode": {
    "name": "ipython",
    "version": 3
   },
   "file_extension": ".py",
   "mimetype": "text/x-python",
   "name": "python",
   "nbconvert_exporter": "python",
   "pygments_lexer": "ipython3",
   "version": "3.12.4"
  }
 },
 "nbformat": 4,
 "nbformat_minor": 2
}
