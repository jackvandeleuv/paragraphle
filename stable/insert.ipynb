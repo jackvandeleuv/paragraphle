{
 "cells": [
  {
   "cell_type": "markdown",
   "metadata": {},
   "source": [
    "This takes way too long. Bigger buffer?"
   ]
  },
  {
   "cell_type": "code",
   "execution_count": 1,
   "metadata": {},
   "outputs": [],
   "source": [
    "# import json\n",
    "# import sqlite3\n",
    "# import numpy as np\n",
    "\n",
    "# conn = sqlite3.Connection('data/data.db')\n",
    "# cur = conn.cursor()\n",
    "\n",
    "# create_embeddings = \"\"\"\n",
    "#     CREATE TABLE embeddings (\n",
    "#         id INTEGER PRIMARY KEY,         \n",
    "#         vector BLOB              \n",
    "#     );\n",
    "# \"\"\"\n",
    "# cur.execute(create_embeddings)\n",
    "# conn.commit()\n",
    "\n",
    "# insert_embeddings = \"\"\"\n",
    "#     INSERT INTO embeddings (id, vector) VALUES (?, ?);\n",
    "# \"\"\"\n",
    "\n",
    "# buffer = []\n",
    "# with open('data/embeddings.jsonl', 'rt') as file:\n",
    "#     for line in file:\n",
    "#         j = json.loads(line)\n",
    "#         buffer.append((\n",
    "#             j['id'], \n",
    "#             np.array(j['embedding']).tobytes()\n",
    "#         ))\n",
    "#         if len(buffer) > 100000:\n",
    "#             print(\"Writing buffer.\")\n",
    "#             cur.executemany(\n",
    "#                 insert_embeddings, \n",
    "#                 buffer\n",
    "#             )\n",
    "#             conn.commit()\n",
    "#             buffer = []\n",
    "\n",
    "# if len(buffer) > 0:\n",
    "#     print(\"Writing buffer.\")        \n",
    "#     cur.executemany(\n",
    "#         insert_embeddings, \n",
    "#         buffer\n",
    "#     )\n",
    "#     conn.commit()\n",
    "#     buffer = []"
   ]
  },
  {
   "cell_type": "markdown",
   "metadata": {},
   "source": [
    "# Connect counts and clean text."
   ]
  },
  {
   "cell_type": "code",
   "execution_count": 2,
   "metadata": {},
   "outputs": [],
   "source": [
    "import pandas as pd\n",
    "\n",
    "selected = {}\n",
    "with open('../transformed/data/links.txt', 'r', encoding='utf-8', errors='replace') as file:\n",
    "    for line in file:\n",
    "        try:\n",
    "            # Filter out hashtag pages\n",
    "            if line[0] == '#':\n",
    "                continue\n",
    "\n",
    "            # Filter out category pages\n",
    "            skip = False\n",
    "            for substring in ['Category:', 'File:', 'Wikipedia:']:\n",
    "                if substring in line:\n",
    "                    skip = True\n",
    "            if skip:\n",
    "                continue\n",
    "                \n",
    "            # Filter out aliases and sublinks\n",
    "            for substring in ['#', '|']:\n",
    "                if substring in line:\n",
    "                    line = line.split(substring, 1)[0]\n",
    "\n",
    "            line = line.strip()\n",
    "\n",
    "            if line in selected:\n",
    "                selected[line] += 1\n",
    "            else:\n",
    "                selected[line] = 1\n",
    "        except Exception as e:\n",
    "            print(e)\n",
    "\n",
    "selected = pd.DataFrame(\n",
    "    list(\n",
    "        filter(\n",
    "            lambda x: x['count'] >= 5,\n",
    "            sorted(\n",
    "                [{'lower_title': x.lower().strip(), 'count': y} for x, y in selected.items()],\n",
    "                key=lambda x: x['count'],\n",
    "                reverse=True\n",
    "            )   \n",
    "        )\n",
    "    )\n",
    ")\n",
    "\n",
    "# Drop duplicates\n",
    "selected = selected.sort_values('count', ascending=False)\n",
    "selected = selected.drop_duplicates('lower_title', keep='first')"
   ]
  },
  {
   "cell_type": "code",
   "execution_count": 3,
   "metadata": {},
   "outputs": [],
   "source": [
    "import json \n",
    "import pandas as pd\n",
    "\n",
    "clean = []\n",
    "with open('data/cleaned.jsonl', 'r', encoding='utf-8') as file:\n",
    "    for line in file:\n",
    "        clean.append(json.loads(line))\n",
    "clean = pd.DataFrame(clean)\n",
    "\n",
    "# Drop duplicates\n",
    "clean['len'] = clean.clean_text.apply(len)\n",
    "clean = clean.sort_values('len', ascending=False)\n",
    "clean = clean.drop_duplicates('lower_title', keep='first')\n",
    "clean = clean.drop('len', axis=1)"
   ]
  },
  {
   "cell_type": "code",
   "execution_count": 4,
   "metadata": {},
   "outputs": [
    {
     "name": "stdout",
     "output_type": "stream",
     "text": [
      "550751\n",
      "550751\n"
     ]
    }
   ],
   "source": [
    "print(len(clean))\n",
    "clean = clean.merge(selected, on='lower_title')\n",
    "print(len(clean))"
   ]
  },
  {
   "cell_type": "code",
   "execution_count": 5,
   "metadata": {},
   "outputs": [
    {
     "data": {
      "text/html": [
       "<div>\n",
       "<style scoped>\n",
       "    .dataframe tbody tr th:only-of-type {\n",
       "        vertical-align: middle;\n",
       "    }\n",
       "\n",
       "    .dataframe tbody tr th {\n",
       "        vertical-align: top;\n",
       "    }\n",
       "\n",
       "    .dataframe thead th {\n",
       "        text-align: right;\n",
       "    }\n",
       "</style>\n",
       "<table border=\"1\" class=\"dataframe\">\n",
       "  <thead>\n",
       "    <tr style=\"text-align: right;\">\n",
       "      <th></th>\n",
       "      <th>id</th>\n",
       "      <th>title</th>\n",
       "      <th>lower_title</th>\n",
       "      <th>clean_text</th>\n",
       "      <th>count</th>\n",
       "    </tr>\n",
       "  </thead>\n",
       "  <tbody>\n",
       "    <tr>\n",
       "      <th>499179</th>\n",
       "      <td>2177907</td>\n",
       "      <td>Garde Mobile</td>\n",
       "      <td>garde mobile</td>\n",
       "      <td>Garde Mobile: The '''''Garde mobile''''' (\"Mob...</td>\n",
       "      <td>7</td>\n",
       "    </tr>\n",
       "  </tbody>\n",
       "</table>\n",
       "</div>"
      ],
      "text/plain": [
       "             id         title   lower_title  \\\n",
       "499179  2177907  Garde Mobile  garde mobile   \n",
       "\n",
       "                                               clean_text  count  \n",
       "499179  Garde Mobile: The '''''Garde mobile''''' (\"Mob...      7  "
      ]
     },
     "execution_count": 5,
     "metadata": {},
     "output_type": "execute_result"
    }
   ],
   "source": [
    "clean.sample()"
   ]
  },
  {
   "cell_type": "code",
   "execution_count": 6,
   "metadata": {},
   "outputs": [],
   "source": [
    "import sqlite3\n",
    "import pandas as pd\n",
    "\n",
    "try:\n",
    "    conn = sqlite3.Connection('data/data.db')\n",
    "    (clean\n",
    "        .rename(columns={'lower_title': 'clean_title'})\n",
    "        .drop(['clean_text'], axis=1)\n",
    "        .to_sql('articles', conn)\n",
    "    )\n",
    "    conn.commit()\n",
    "except Exception as e:\n",
    "    print(e)\n",
    "finally:\n",
    "    conn.close()"
   ]
  }
 ],
 "metadata": {
  "kernelspec": {
   "display_name": "base",
   "language": "python",
   "name": "python3"
  },
  "language_info": {
   "codemirror_mode": {
    "name": "ipython",
    "version": 3
   },
   "file_extension": ".py",
   "mimetype": "text/x-python",
   "name": "python",
   "nbconvert_exporter": "python",
   "pygments_lexer": "ipython3",
   "version": "3.12.4"
  }
 },
 "nbformat": 4,
 "nbformat_minor": 2
}
