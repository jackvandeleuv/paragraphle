{
 "cells": [
  {
   "cell_type": "code",
   "execution_count": 1,
   "metadata": {},
   "outputs": [
    {
     "name": "stdout",
     "output_type": "stream",
     "text": [
      "Writing buffer.\n",
      "Writing buffer.\n",
      "Writing buffer.\n",
      "Writing buffer.\n",
      "Writing buffer.\n",
      "Writing buffer.\n"
     ]
    }
   ],
   "source": [
    "import json\n",
    "import sqlite3\n",
    "import numpy as np\n",
    "import base64 \n",
    "\n",
    "conn = sqlite3.Connection('data/data.db')\n",
    "cur = conn.cursor()\n",
    "\n",
    "create_embeddings = \"\"\"\n",
    "    CREATE TABLE embeddings (\n",
    "        id INTEGER PRIMARY KEY,         \n",
    "        vector BLOB              \n",
    "    );\n",
    "\"\"\"\n",
    "cur.execute(create_embeddings)\n",
    "conn.commit()\n",
    "\n",
    "insert_embeddings = \"\"\"\n",
    "    INSERT INTO embeddings (id, vector) VALUES (?, ?);\n",
    "\"\"\"\n",
    "\n",
    "buffer = []\n",
    "with open('data/embeddings.jsonl', 'rt') as file:\n",
    "    for line in file:\n",
    "        j = json.loads(line)\n",
    "        if not j['embedding']:\n",
    "            j['embedding'] = ''\n",
    "        buffer.append((\n",
    "            j['id'], \n",
    "            np.frombuffer(base64.b64decode(j['embedding'])).tobytes()\n",
    "        ))\n",
    "        if len(buffer) > 100000:\n",
    "            print(\"Writing buffer.\")\n",
    "            cur.executemany(\n",
    "                insert_embeddings, \n",
    "                buffer\n",
    "            )\n",
    "            conn.commit()\n",
    "            buffer = []\n",
    "\n",
    "if len(buffer) > 0:\n",
    "    print(\"Writing buffer.\")        \n",
    "    cur.executemany(\n",
    "        insert_embeddings, \n",
    "        buffer\n",
    "    )\n",
    "    conn.commit()\n",
    "    buffer = []"
   ]
  },
  {
   "cell_type": "markdown",
   "metadata": {},
   "source": [
    "# Connect counts, clusters, and clean text."
   ]
  },
  {
   "cell_type": "code",
   "execution_count": 2,
   "metadata": {},
   "outputs": [],
   "source": [
    "from select_top_counts import select_top_counts\n",
    "\n",
    "selected = select_top_counts()\n",
    "\n",
    "# Drop duplicates\n",
    "selected = selected.sort_values('count', ascending=False)\n",
    "selected = selected.drop_duplicates('lower_title', keep='first')"
   ]
  },
  {
   "cell_type": "code",
   "execution_count": 3,
   "metadata": {},
   "outputs": [],
   "source": [
    "import json \n",
    "import pandas as pd\n",
    "\n",
    "clean = []\n",
    "with open('data/cleaned.jsonl', 'r', encoding='utf-8') as file:\n",
    "    for line in file:\n",
    "        clean.append(json.loads(line))\n",
    "clean = pd.DataFrame(clean)\n",
    "\n",
    "# Drop duplicates\n",
    "clean['len'] = clean.clean_text.apply(len)\n",
    "clean = clean.sort_values('len', ascending=False)\n",
    "clean = clean.drop_duplicates('lower_title', keep='first')\n",
    "clean = clean.drop('len', axis=1)"
   ]
  },
  {
   "cell_type": "code",
   "execution_count": 4,
   "metadata": {},
   "outputs": [],
   "source": [
    "clean['id'] = clean['id'].astype(np.int64)"
   ]
  },
  {
   "cell_type": "code",
   "execution_count": 5,
   "metadata": {},
   "outputs": [],
   "source": [
    "clusters = []\n",
    "with open('data/clusters.jsonl', 'r') as file:\n",
    "    for line in file:\n",
    "        clusters.append(json.loads(line))\n",
    "clusters = pd.DataFrame(clusters)"
   ]
  },
  {
   "cell_type": "code",
   "execution_count": 6,
   "metadata": {},
   "outputs": [
    {
     "name": "stdout",
     "output_type": "stream",
     "text": [
      "550751\n",
      "548767\n"
     ]
    }
   ],
   "source": [
    "print(len(clean))\n",
    "clean = (clean\n",
    "    .merge(selected, on='lower_title')\n",
    "    .merge(clusters, on='id')\n",
    ")\n",
    "print(len(clean))"
   ]
  },
  {
   "cell_type": "code",
   "execution_count": 7,
   "metadata": {},
   "outputs": [
    {
     "data": {
      "text/html": [
       "<div>\n",
       "<style scoped>\n",
       "    .dataframe tbody tr th:only-of-type {\n",
       "        vertical-align: middle;\n",
       "    }\n",
       "\n",
       "    .dataframe tbody tr th {\n",
       "        vertical-align: top;\n",
       "    }\n",
       "\n",
       "    .dataframe thead th {\n",
       "        text-align: right;\n",
       "    }\n",
       "</style>\n",
       "<table border=\"1\" class=\"dataframe\">\n",
       "  <thead>\n",
       "    <tr style=\"text-align: right;\">\n",
       "      <th></th>\n",
       "      <th>id</th>\n",
       "      <th>title</th>\n",
       "      <th>lower_title</th>\n",
       "      <th>clean_text</th>\n",
       "      <th>count</th>\n",
       "      <th>cluster</th>\n",
       "    </tr>\n",
       "  </thead>\n",
       "  <tbody>\n",
       "    <tr>\n",
       "      <th>289786</th>\n",
       "      <td>2892553</td>\n",
       "      <td>Long March 2</td>\n",
       "      <td>long march 2</td>\n",
       "      <td>Long March 2: '''Long March&amp;nbsp;2 rocket fami...</td>\n",
       "      <td>15</td>\n",
       "      <td>117</td>\n",
       "    </tr>\n",
       "  </tbody>\n",
       "</table>\n",
       "</div>"
      ],
      "text/plain": [
       "             id         title   lower_title  \\\n",
       "289786  2892553  Long March 2  long march 2   \n",
       "\n",
       "                                               clean_text  count  cluster  \n",
       "289786  Long March 2: '''Long March&nbsp;2 rocket fami...     15      117  "
      ]
     },
     "execution_count": 7,
     "metadata": {},
     "output_type": "execute_result"
    }
   ],
   "source": [
    "clean.sample()"
   ]
  },
  {
   "cell_type": "code",
   "execution_count": 8,
   "metadata": {},
   "outputs": [],
   "source": [
    "import sqlite3\n",
    "import pandas as pd\n",
    "\n",
    "try:\n",
    "    conn = sqlite3.Connection('data/data.db')\n",
    "    (clean\n",
    "        .rename(columns={'lower_title': 'clean_title'})\n",
    "        .drop(['clean_text'], axis=1)\n",
    "        .to_sql('articles', conn)\n",
    "    )\n",
    "    conn.commit()\n",
    "except Exception as e:\n",
    "    print(e)\n",
    "finally:\n",
    "    conn.close()"
   ]
  },
  {
   "cell_type": "code",
   "execution_count": 9,
   "metadata": {},
   "outputs": [],
   "source": [
    "import sqlite3\n",
    "import pandas as pd\n",
    "\n",
    "conn = sqlite3.Connection('data/data.db')\n",
    "cur = conn.cursor()\n",
    "\n",
    "cur.execute(\"\"\"\n",
    "    create table ping (\n",
    "        id INTEGER PRIMARY KEY,\n",
    "        user_agent TEXT,\n",
    "        referer TEXT,\n",
    "        ip TEXT,\n",
    "        timestamp REAL,\n",
    "        width INTEGER,\n",
    "        height INTEGER,\n",
    "        inner_width INTEGER,\n",
    "        inner_height INTEGER,\n",
    "        pixelRatio REAL\n",
    "    )\n",
    "\"\"\")\n",
    "conn.commit()\n",
    "\n",
    "cur.execute(\"\"\"\n",
    "    create table guesses (\n",
    "        id INTEGER PRIMARY KEY,\n",
    "        guess_id INTEGER,\n",
    "        timestamp REAL,\n",
    "        ip TEXT\n",
    "    )\n",
    "\"\"\")\n",
    "conn.commit()\n",
    "\n",
    "conn.close()"
   ]
  },
  {
   "cell_type": "code",
   "execution_count": null,
   "metadata": {},
   "outputs": [],
   "source": [
    "import json\n",
    "import sqlite3\n",
    "\n",
    "conn = sqlite3.Connection('data/data.db')\n",
    "cur = conn.cursor()\n",
    "\n",
    "create_images = \"\"\"\n",
    "    CREATE TABLE images (\n",
    "        id INTEGER PRIMARY KEY,         \n",
    "        url TEXT,\n",
    "        articles_id INTEGER            \n",
    "    );\n",
    "\"\"\"\n",
    "cur.execute(create_images)\n",
    "conn.commit()\n",
    "\n",
    "insert_images = \"\"\"\n",
    "    INSERT INTO images (url, articles_id) VALUES (?, ?);\n",
    "\"\"\"\n",
    "\n",
    "urls = []\n",
    "with open('data/links.jsonl', 'r', encoding='utf-8') as file:\n",
    "    for row in file:\n",
    "        urls.append(json.loads(row))\n",
    "\n",
    "cur.executemany(insert_images, [(x['image_url'], x['id']) for x in urls])\n",
    "conn.commit()\n",
    "\n",
    "conn.close()"
   ]
  },
  {
   "cell_type": "code",
   "execution_count": 18,
   "metadata": {},
   "outputs": [],
   "source": [
    "import sqlite3\n",
    "import pandas as pd\n",
    "\n",
    "conn = sqlite3.Connection('data/data.db')\n",
    "cur = conn.cursor()\n",
    "\n",
    "cur.execute(\"CREATE INDEX articles_idx_index ON articles(id)\")\n",
    "conn.commit()\n",
    "\n",
    "cur.execute(\"CREATE INDEX embeddings_idx_index ON embeddings(id)\")\n",
    "conn.commit()\n",
    "\n",
    "cur.execute(\"CREATE INDEX images_articles_idx_index ON images(articles_id)\")\n",
    "conn.commit()"
   ]
  }
 ],
 "metadata": {
  "kernelspec": {
   "display_name": "base",
   "language": "python",
   "name": "python3"
  },
  "language_info": {
   "codemirror_mode": {
    "name": "ipython",
    "version": 3
   },
   "file_extension": ".py",
   "mimetype": "text/x-python",
   "name": "python",
   "nbconvert_exporter": "python",
   "pygments_lexer": "ipython3",
   "version": "3.12.4"
  }
 },
 "nbformat": 4,
 "nbformat_minor": 2
}
