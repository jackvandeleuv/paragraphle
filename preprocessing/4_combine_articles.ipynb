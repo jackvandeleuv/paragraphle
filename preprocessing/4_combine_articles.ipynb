{
 "cells": [
  {
   "cell_type": "markdown",
   "id": "167cd058",
   "metadata": {},
   "source": [
    "* Adds scraped.jsonl together with chunks and articles from the download_chunks step.\n",
    "* Also cleans up scraped articles to match the same format."
   ]
  },
  {
   "cell_type": "code",
   "execution_count": 144,
   "id": "fb4b1bff",
   "metadata": {},
   "outputs": [],
   "source": [
    "import json \n",
    "import pandas as pd"
   ]
  },
  {
   "cell_type": "code",
   "execution_count": 145,
   "id": "e48afdd9",
   "metadata": {},
   "outputs": [],
   "source": [
    "MIN_COUNT = 25\n",
    "STRIDE = 20\n",
    "LENGTH = 40"
   ]
  },
  {
   "cell_type": "code",
   "execution_count": 146,
   "id": "d7e15969",
   "metadata": {},
   "outputs": [],
   "source": [
    "articles = pd.read_parquet(f'data/articles_top{MIN_COUNT}_len{LENGTH}_stride{STRIDE}.parquet')\n",
    "max_article_id = articles.article_id.max()"
   ]
  },
  {
   "cell_type": "code",
   "execution_count": 147,
   "id": "26a7446a",
   "metadata": {},
   "outputs": [],
   "source": [
    "def truncate_text(text):\n",
    "    \"\"\"\n",
    "    Clip off the references and notes section that appear\n",
    "    at the end of articles\n",
    "    \"\"\"\n",
    "    if 'References' in text:\n",
    "        return text.split('References', 1)[0]\n",
    "    elif 'Notes' in text:\n",
    "        return text.split('Notes', 1)[0]\n",
    "    # elif 'Citations' in text:\n",
    "    #     return text.split('Citations', 1)[0]\n",
    "    else:\n",
    "        return text"
   ]
  },
  {
   "cell_type": "code",
   "execution_count": 148,
   "id": "3f8a5b3b",
   "metadata": {},
   "outputs": [],
   "source": [
    "scraped = []\n",
    "with open('data/scraped.jsonl', 'r') as file:\n",
    "    for line in file:\n",
    "        scraped.append(json.loads(line))\n",
    "scraped = pd.DataFrame(scraped)\n",
    "\n",
    "# scraped.jsonl may be cached from an earlier pipeline run.\n",
    "scraped = scraped[scraped['count'] >= MIN_COUNT]\n",
    "\n",
    "# Exclude user pages\n",
    "scraped = scraped[~scraped['lower_title'].str.contains('user:')]\n",
    "\n",
    "scraped = scraped.sort_values('count', ascending=False)\n",
    "scraped = scraped.drop_duplicates(subset=['url'], keep='first')\n",
    "\n",
    "scraped = scraped.reset_index()\n",
    "scraped['article_id'] = scraped.index + max_article_id + 1\n",
    "\n",
    "scraped['title'] = scraped.lower_title\n",
    "\n",
    "scraped = scraped.drop(['index'], axis=1)\n",
    "\n",
    "# scraped['text'] = scraped['text'].apply(truncate_text)"
   ]
  },
  {
   "cell_type": "code",
   "execution_count": 149,
   "id": "b135ad22",
   "metadata": {},
   "outputs": [
    {
     "name": "stdout",
     "output_type": "stream",
     "text": [
      "82040\n",
      "91723\n",
      "91228\n"
     ]
    }
   ],
   "source": [
    "print(len(articles))\n",
    "\n",
    "articles = pd.concat([articles, scraped], axis=0)\n",
    "print(len(articles))\n",
    "\n",
    "del scraped\n",
    "\n",
    "articles['lower_title'] = articles['lower_title'].apply(lambda x: x.strip())\n",
    "\n",
    "articles = articles.sort_values('article_id').drop_duplicates('lower_title', keep='first')\n",
    "print(len(articles))\n",
    "\n",
    "articles.to_parquet(f'data/combined_articles_top{MIN_COUNT}_len{LENGTH}_stride{STRIDE}.parquet')"
   ]
  }
 ],
 "metadata": {
  "kernelspec": {
   "display_name": "base",
   "language": "python",
   "name": "python3"
  },
  "language_info": {
   "codemirror_mode": {
    "name": "ipython",
    "version": 3
   },
   "file_extension": ".py",
   "mimetype": "text/x-python",
   "name": "python",
   "nbconvert_exporter": "python",
   "pygments_lexer": "ipython3",
   "version": "3.12.4"
  }
 },
 "nbformat": 4,
 "nbformat_minor": 5
}
