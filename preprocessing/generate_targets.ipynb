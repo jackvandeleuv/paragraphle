{
 "cells": [
  {
   "cell_type": "code",
   "execution_count": 1,
   "id": "43849fa8",
   "metadata": {},
   "outputs": [],
   "source": [
    "from openai import OpenAI\n",
    "from dotenv import load_dotenv\n",
    "import os \n",
    "import copy\n",
    "import numpy as np \n",
    "import sqlite3\n",
    "import pandas as pd \n",
    "\n",
    "load_dotenv()\n",
    "\n",
    "def get_completion(n_options):\n",
    "    client = OpenAI(api_key=os.environ.get('OPENAI_API_KEY'))\n",
    "\n",
    "    response = client.responses.create(\n",
    "        model=\"o3-mini\",\n",
    "        input=f\"\"\"\n",
    "            Write a string representation of a Python list where each element is a title of a popular Wikipedia article.\n",
    "\n",
    "            The list should have {n_options} elements.\n",
    "\n",
    "            The list should not just be the most popular articles. Instead, it should be articles that are interesting choices,\n",
    "            but are well-known enough that they are possible to guess as part of a challenging guessing game.\n",
    "\n",
    "            Try really hard to make weird choices that still match the specs! When you are too predictable, the game is not fun.\n",
    "\n",
    "            Example output:\n",
    "\n",
    "            [\"Nintendo 3DS\", \"Dopamine\", \"Chinese language\", \"Bishop\", \"Cross-dressing\", \"Arnold Schwarzenegger\", \"Water tower\", \"Bouldering\", \"Wax\", \"Flag of Canada\"]\n",
    "            \n",
    "        \"\"\"\n",
    "    )\n",
    "    return response.output_text\n",
    "\n",
    "def execute_sql(query):\n",
    "    conn = sqlite3.Connection('data/data.db')\n",
    "    data = pd.read_sql(query, conn).to_dict(orient='records')\n",
    "    conn.close()\n",
    "    return data\n",
    "\n",
    "def get_target(title):\n",
    "    try:\n",
    "        return execute_sql(f\"\"\"\n",
    "            select article_id, vector, title, url, chunk\n",
    "            from embeddings\n",
    "            join (\n",
    "                select article_id, title, url\n",
    "                from articles \n",
    "                where clean_title like '%{title}%'\n",
    "                order by length(clean_title)\n",
    "                limit 1\n",
    "            ) as a\n",
    "                using(article_id)\n",
    "            join chunks \n",
    "                using (article_id)\n",
    "        \"\"\")\n",
    "    except Exception as e:\n",
    "        print(e)\n",
    "        print(f\"Failed on: {title}\")\n",
    "        return []"
   ]
  },
  {
   "cell_type": "code",
   "execution_count": 2,
   "id": "d08f0385",
   "metadata": {},
   "outputs": [
    {
     "name": "stdout",
     "output_type": "stream",
     "text": [
      "Filtering 50 AI choices.\n",
      "Found a match! Len targets: 0\n",
      "Found a match! Len targets: 1\n",
      "Found a match! Len targets: 2\n",
      "Found a match! Len targets: 3\n",
      "Found a match! Len targets: 4\n",
      "Found a match! Len targets: 5\n",
      "Found a match! Len targets: 6\n",
      "Found a match! Len targets: 7\n",
      "Found a match! Len targets: 8\n",
      "Found a match! Len targets: 9\n",
      "Found a match! Len targets: 10\n",
      "Found a match! Len targets: 11\n",
      "Found a match! Len targets: 12\n",
      "Found a match! Len targets: 13\n",
      "Found a match! Len targets: 14\n",
      "Found a match! Len targets: 15\n",
      "Found a match! Len targets: 16\n",
      "Matched targets: 17\n"
     ]
    }
   ],
   "source": [
    "targets = set()\n",
    "n = 50\n",
    "\n",
    "for _ in range(1):\n",
    "    ai_choices = get_completion(n)\n",
    "    ai_choices_obj = eval(ai_choices)\n",
    "    ai_choices_clean = [x.lower().strip() for x in ai_choices_obj]\n",
    "    print(f\"Filtering {n} AI choices.\")\n",
    "    for ai_choice in ai_choices_clean:     \n",
    "        target = get_target(ai_choice)\n",
    "        if not target:\n",
    "            continue\n",
    "        print(f'Found a match! Len targets: {len(targets)}')\n",
    "        targets.add(target.pop()['article_id'])\n",
    "    print('Matched targets:', len(targets))\n",
    "\n",
    "# Write targets out to disk.\n",
    "with open('data/ai_targets.txt', 'a', encoding='utf-8') as file:\n",
    "    for article_id in list(targets):\n",
    "        file.write(str(article_id) + '\\n')"
   ]
  },
  {
   "cell_type": "code",
   "execution_count": 3,
   "id": "1c96fe45",
   "metadata": {},
   "outputs": [],
   "source": [
    "# Dedup previously written target ids.\n",
    "prev_targets = set()\n",
    "with open('data/ai_targets.txt', 'r') as file:\n",
    "    for line in file:\n",
    "        if line.strip() != '':\n",
    "            prev_targets.add(line.strip())\n",
    "\n",
    "with open('data/ai_targets.txt', 'wt') as file:\n",
    "    for article_id in list(prev_targets):\n",
    "        file.write(str(article_id).strip() + '\\n')"
   ]
  },
  {
   "cell_type": "code",
   "execution_count": 4,
   "id": "318ac59c",
   "metadata": {},
   "outputs": [
    {
     "data": {
      "text/plain": [
       "106"
      ]
     },
     "execution_count": 4,
     "metadata": {},
     "output_type": "execute_result"
    }
   ],
   "source": [
    "prev_targets.__len__()"
   ]
  }
 ],
 "metadata": {
  "kernelspec": {
   "display_name": "base",
   "language": "python",
   "name": "python3"
  },
  "language_info": {
   "codemirror_mode": {
    "name": "ipython",
    "version": 3
   },
   "file_extension": ".py",
   "mimetype": "text/x-python",
   "name": "python",
   "nbconvert_exporter": "python",
   "pygments_lexer": "ipython3",
   "version": "3.12.4"
  }
 },
 "nbformat": 4,
 "nbformat_minor": 5
}
