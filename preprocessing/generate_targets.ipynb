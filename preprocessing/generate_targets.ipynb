{
 "cells": [
  {
   "cell_type": "code",
   "execution_count": null,
   "id": "36660ac3",
   "metadata": {},
   "outputs": [],
   "source": [
    "\"\"\"            \n",
    "            \"\"\""
   ]
  },
  {
   "cell_type": "code",
   "execution_count": 27,
   "id": "43849fa8",
   "metadata": {},
   "outputs": [],
   "source": [
    "from openai import OpenAI\n",
    "from dotenv import load_dotenv\n",
    "import os \n",
    "import copy\n",
    "import numpy as np \n",
    "import sqlite3\n",
    "import pandas as pd \n",
    "\n",
    "load_dotenv()\n",
    "\n",
    "def get_completion(n_options):\n",
    "    client = OpenAI(api_key=os.environ.get('OPENAI_API_KEY'))\n",
    "\n",
    "    response = client.responses.create(\n",
    "        model=\"gpt-4.1-nano\",\n",
    "        input=f\"\"\"\n",
    "            Write a string representation of a Python list where each element is a title of a popular Wikipedia article.\n",
    "\n",
    "            The list should have {n_options} elements.\n",
    "\n",
    "            The list should be articles that are interesting choices, but are well-known enough that they are possible to \n",
    "            guess as part of a challenging guessing game.\n",
    "\n",
    "            Be unpredictable! This query will be ran many times and each time it should have a different result.\n",
    "\n",
    "            Example output:\n",
    "\n",
    "            [\"Nintendo 3DS\", \"Dopamine\", \"Chinese language\", \"Bishop\", \"Cross-dressing\", \"Arnold Schwarzenegger\", \"Water tower\", \"Bouldering\", \"Wax\", \"Flag of Canada\"]\n",
    "        \"\"\"\n",
    "    )\n",
    "    return response.output_text\n",
    "\n",
    "def execute_sql(query):\n",
    "    conn = sqlite3.Connection('data/data.db')\n",
    "    data = pd.read_sql(query, conn).to_dict(orient='records')\n",
    "    conn.close()\n",
    "    return data\n",
    "\n",
    "def get_matches(title):\n",
    "    try:\n",
    "        return execute_sql(f\"\"\"\n",
    "            select article_id, title, count\n",
    "            from articles \n",
    "            where clean_title like '%{title}%'\n",
    "            order by count desc\n",
    "            limit 1\n",
    "        \"\"\")\n",
    "    except Exception as e:\n",
    "        print(e)\n",
    "        print(f\"Failed on: {title}\")\n",
    "        return []"
   ]
  },
  {
   "cell_type": "code",
   "execution_count": 35,
   "id": "d08f0385",
   "metadata": {},
   "outputs": [],
   "source": [
    "import json\n",
    "\n",
    "targets = set()\n",
    "n = 100\n",
    "\n",
    "for i in range(5):\n",
    "    print(i)\n",
    "    try:\n",
    "        ai_choices = get_completion(n)\n",
    "        ai_choices = ai_choices.strip().lower().replace(r\"`\", '').replace('python', '').strip()\n",
    "        ai_choices_obj = eval(ai_choices)\n",
    "        ai_choices_clean = [x.lower().strip() for x in ai_choices_obj]\n",
    "        for ai_choice in ai_choices_clean:\n",
    "            matches = get_matches(ai_choice.replace(\"'\", \"\"))\n",
    "            if not matches:\n",
    "                continue\n",
    "            targets.add(tuple([x for x in matches.pop().values()]))\n",
    "    except Exception as e:\n",
    "        print(e)\n",
    "\n",
    "# Write targets out to disk.\n",
    "with open('data/ai_targets.jsonl', 'a', encoding='utf-8') as file:\n",
    "    for row in list(targets):\n",
    "        file.write(json.dumps({'article_id': row[0], 'count': row[2]}) + '\\n')"
   ]
  }
 ],
 "metadata": {
  "kernelspec": {
   "display_name": "base",
   "language": "python",
   "name": "python3"
  },
  "language_info": {
   "codemirror_mode": {
    "name": "ipython",
    "version": 3
   },
   "file_extension": ".py",
   "mimetype": "text/x-python",
   "name": "python",
   "nbconvert_exporter": "python",
   "pygments_lexer": "ipython3",
   "version": "3.12.4"
  }
 },
 "nbformat": 4,
 "nbformat_minor": 5
}
