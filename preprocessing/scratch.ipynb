{
 "cells": [
  {
   "cell_type": "code",
   "execution_count": 2,
   "metadata": {},
   "outputs": [
    {
     "data": {
      "text/html": [
       "<div>\n",
       "<style scoped>\n",
       "    .dataframe tbody tr th:only-of-type {\n",
       "        vertical-align: middle;\n",
       "    }\n",
       "\n",
       "    .dataframe tbody tr th {\n",
       "        vertical-align: top;\n",
       "    }\n",
       "\n",
       "    .dataframe thead th {\n",
       "        text-align: right;\n",
       "    }\n",
       "</style>\n",
       "<table border=\"1\" class=\"dataframe\">\n",
       "  <thead>\n",
       "    <tr style=\"text-align: right;\">\n",
       "      <th></th>\n",
       "      <th>article_id</th>\n",
       "    </tr>\n",
       "  </thead>\n",
       "  <tbody>\n",
       "    <tr>\n",
       "      <th>0</th>\n",
       "      <td>57841</td>\n",
       "    </tr>\n",
       "    <tr>\n",
       "      <th>1</th>\n",
       "      <td>511201</td>\n",
       "    </tr>\n",
       "    <tr>\n",
       "      <th>2</th>\n",
       "      <td>403203</td>\n",
       "    </tr>\n",
       "    <tr>\n",
       "      <th>3</th>\n",
       "      <td>47730</td>\n",
       "    </tr>\n",
       "    <tr>\n",
       "      <th>4</th>\n",
       "      <td>399213</td>\n",
       "    </tr>\n",
       "  </tbody>\n",
       "</table>\n",
       "</div>"
      ],
      "text/plain": [
       "   article_id\n",
       "0       57841\n",
       "1      511201\n",
       "2      403203\n",
       "3       47730\n",
       "4      399213"
      ]
     },
     "execution_count": 2,
     "metadata": {},
     "output_type": "execute_result"
    }
   ],
   "source": [
    "from flask import Flask, jsonify\n",
    "import sqlite3\n",
    "from markupsafe import escape\n",
    "from flask_cors import CORS\n",
    "from copy import deepcopy\n",
    "import numpy as np\n",
    "from dotenv import load_dotenv\n",
    "from openai import OpenAI\n",
    "import os \n",
    "from collections import Counter\n",
    "import pandas as pd\n",
    "load_dotenv()\n",
    "\n",
    "client = OpenAI(api_key=os.environ.get('OPENAI_API_KEY'))\n",
    "DB_PATH = '../backend/data.db'\n",
    "\n",
    "conn = sqlite3.Connection(DB_PATH)\n",
    "cur = conn.cursor()\n",
    "# cur.execute(\"\"\"\n",
    "#     select chunk\n",
    "#     from chunks\n",
    "#     where article_id == ?\n",
    "# \"\"\", (19017269,))\n",
    "# chunks = ' '.join([x[0] for x in cur.fetchall()]).split()\n",
    "\n",
    "pd.read_sql(\"\"\"select article_id from articles \n",
    "            where count > 50 and count < 150\n",
    "            order by random() limit 5\"\"\", conn)\n",
    "\n",
    "# pd.read_sql(\"select * from articles where title like '%seinfeld%' order by count desc\"\"\", conn)\n",
    "\n",
    "# cur.fetchall()"
   ]
  },
  {
   "cell_type": "code",
   "execution_count": 3,
   "metadata": {},
   "outputs": [],
   "source": [
    "import sqlite3\n",
    "import numpy as np\n",
    "from dotenv import load_dotenv\n",
    "from openai import OpenAI\n",
    "import os \n",
    "\n",
    "load_dotenv()\n",
    "\n",
    "client = OpenAI(api_key=os.environ.get('OPENAI_API_KEY'))\n",
    "DB_PATH = 'data/data.db'\n",
    "\n",
    "def get_daily_word_vector_live(daily_word: int):\n",
    "    conn = sqlite3.Connection(DB_PATH)\n",
    "    cur = conn.cursor()\n",
    "    cur.execute(\"\"\"\n",
    "        select chunk\n",
    "        from chunks\n",
    "        where article_id == ?\n",
    "    \"\"\", (daily_word,))\n",
    "    chunks = [x[0] for x in cur.fetchall()]\n",
    "    result = client.embeddings.create(\n",
    "        input=chunks,\n",
    "        model=\"text-embedding-3-small\"\n",
    "    )\n",
    "    return np.array([np.array(x.embedding) for x in result.data]).mean(axis=0)"
   ]
  },
  {
   "cell_type": "code",
   "execution_count": 5,
   "metadata": {},
   "outputs": [
    {
     "data": {
      "text/plain": [
       "(1536,)"
      ]
     },
     "execution_count": 5,
     "metadata": {},
     "output_type": "execute_result"
    }
   ],
   "source": [
    "get_daily_word_vector_live(71329952).shape"
   ]
  },
  {
   "cell_type": "code",
   "execution_count": 15,
   "metadata": {},
   "outputs": [
    {
     "name": "stdout",
     "output_type": "stream",
     "text": [
      "(0, 2)\n",
      "(1, 2)\n",
      "(2, 2)\n",
      "(3, 2)\n",
      "(4, 2)\n"
     ]
    }
   ],
   "source": [
    "import sqlite3\n",
    "import numpy as np\n",
    "\n",
    "conn = sqlite3.Connection('data/data.db')\n",
    "cur = conn.cursor()\n",
    "# cur.execute(\"\"\"\n",
    "#     select a.title, c.chunk\n",
    "#     from embeddings e\n",
    "#     join articles a\n",
    "#         using (article_id)\n",
    "#     join chunks c\n",
    "#         using (chunk_id)\n",
    "#     where e.id == ?\n",
    "# \"\"\", (167680,))\n",
    "cur.execute(\"\"\"\n",
    "    select chunk_id, count(*)\n",
    "    from chunks\n",
    "    group by chunk_id\n",
    "    order by count(*) desc\n",
    "    limit 5\n",
    "\"\"\")\n",
    "for row in cur.fetchall():\n",
    "    print(row)\n",
    "conn.close()"
   ]
  },
  {
   "cell_type": "code",
   "execution_count": 1,
   "metadata": {},
   "outputs": [
    {
     "data": {
      "text/plain": [
       "[(19017269,\n",
       "  'World population',\n",
       "  'world population',\n",
       "  'https://en.wikipedia.org/wiki/World%20population',\n",
       "  67)]"
      ]
     },
     "execution_count": 1,
     "metadata": {},
     "output_type": "execute_result"
    }
   ],
   "source": [
    "import sqlite3\n",
    "import numpy as np\n",
    "\n",
    "conn = sqlite3.Connection('data/data.db')\n",
    "cur = conn.cursor()\n",
    "cur.execute(\"\"\"\n",
    "    select *\n",
    "    from articles\n",
    "    where article_id == ?\n",
    "\"\"\", (19017269,))\n",
    "cur.fetchall()\n"
   ]
  },
  {
   "cell_type": "code",
   "execution_count": 122,
   "metadata": {},
   "outputs": [],
   "source": [
    "conn = sqlite3.Connection('data/data.db')\n",
    "cur = conn.cursor()\n",
    "\n",
    "article_id = 44579187\n",
    "\n",
    "cur.execute(\"\"\"\n",
    "    select e.vector, e.chunk_id, c.chunk\n",
    "    from (\n",
    "        select vector, chunk_id \n",
    "        from embeddings\n",
    "        where article_id == ?\n",
    "    ) as e\n",
    "    join (\n",
    "        select chunk_id, chunk\n",
    "        from chunks\n",
    "        where article_id == ?\n",
    "    ) as c\n",
    "        using (chunk_id)\n",
    "\"\"\", (article_id, article_id))\n",
    "\n",
    "guess = cur.fetchall()\n",
    "guess_matrix = np.array([np.frombuffer(row[0]) for row in guess])"
   ]
  },
  {
   "cell_type": "code",
   "execution_count": null,
   "metadata": {},
   "outputs": [
    {
     "data": {
      "text/plain": [
       "(159563,\n",
       " 'both old and new anime titles both on home video and theatrically, aided by the Scotland Loves Anime film festival. From 2015 to 2018, Anime Limited served as the distributors for Funimation in the British Isles. History On 14 December 2012, Kazé UK representative and Scotland Loves Anime director Andrew Partridge launched the social media and website for Anime Limited, and stated that he would be launching a new anime distribution company in 2013, with',\n",
       " 0.7591181392379761)"
      ]
     },
     "execution_count": 127,
     "metadata": {},
     "output_type": "execute_result"
    }
   ],
   "source": []
  },
  {
   "cell_type": "code",
   "execution_count": null,
   "metadata": {},
   "outputs": [
    {
     "data": {
      "text/plain": [
       "array([0.79301268, 0.75911814, 0.77018558, 0.78948745, 0.80729594,\n",
       "       0.84301049, 0.84762888, 0.82576959, 0.82698408, 0.82828016,\n",
       "       0.79397142, 0.77697281])"
      ]
     },
     "execution_count": 110,
     "metadata": {},
     "output_type": "execute_result"
    }
   ],
   "source": [
    "numerator = guess_matrix @ target\n",
    "denominator_rhs = np.sqrt(np.sum(target ** 2)) \n",
    "denominator_lhs = np.sqrt(np.sum(guess_matrix ** 2, axis=1))\n",
    "denominator = denominator_lhs * denominator_rhs\n",
    "distances = 1 - (numerator / denominator)\n",
    "indices = np.argsort(distances)\n",
    "\n",
    "[(guess[i][1], guess[i][2], distances[i]) for i in indices][: limit]"
   ]
  },
  {
   "cell_type": "code",
   "execution_count": null,
   "metadata": {},
   "outputs": [
    {
     "data": {
      "text/plain": [
       "0.5156283378601074"
      ]
     },
     "execution_count": 104,
     "metadata": {},
     "output_type": "execute_result"
    }
   ],
   "source": [
    "import time\n",
    "\n",
    "times = []\n",
    "\n",
    "for _ in range(10000):\n",
    "    start = time.time()\n",
    "    numerator = guess @ target\n",
    "    denominator_rhs = np.sqrt(np.sum(target ** 2)) \n",
    "    denominator_lhs = np.sqrt(np.sum(guess ** 2, axis=1))\n",
    "    denominator = denominator_lhs * denominator_rhs\n",
    "    distance = 1 - (numerator / denominator)\n",
    "    times.append((time.time() - start) * 10000)\n",
    "np.mean(times)"
   ]
  },
  {
   "cell_type": "code",
   "execution_count": 101,
   "metadata": {},
   "outputs": [
    {
     "data": {
      "text/plain": [
       "2.6936564445495605"
      ]
     },
     "execution_count": 101,
     "metadata": {},
     "output_type": "execute_result"
    }
   ],
   "source": [
    "from scipy.spatial.distance import cosine\n",
    "\n",
    "times = []\n",
    "\n",
    "for _ in range(10000):\n",
    "    start = time.time()\n",
    "    brute = []\n",
    "    for i in range(12):\n",
    "        brute.append(cosine(target, guess[i, :]))\n",
    "    brute = np.array(brute)\n",
    "    times.append((time.time() - start) * 10000)\n",
    "np.mean(times)"
   ]
  },
  {
   "cell_type": "code",
   "execution_count": null,
   "metadata": {},
   "outputs": [],
   "source": []
  },
  {
   "cell_type": "code",
   "execution_count": null,
   "metadata": {},
   "outputs": [],
   "source": [
    "import pandas as pd\n",
    "\n",
    "first = True\n",
    "for chunk in pd.read_csv('data/chunks_high_len.csv', chunksize=10000):\n",
    "    if first:\n",
    "        c = chunk.drop('chunk', axis=1)\n",
    "        first = False\n",
    "        continue\n",
    "    c = pd.concat([chunk.drop('chunk', axis=1), c], axis=0)"
   ]
  },
  {
   "cell_type": "code",
   "execution_count": 6,
   "metadata": {},
   "outputs": [],
   "source": [
    "import os\n",
    "import pandas as pd \n",
    "\n",
    "a = pd.read_parquet('data/articles.parquet')"
   ]
  },
  {
   "cell_type": "code",
   "execution_count": 7,
   "metadata": {},
   "outputs": [
    {
     "data": {
      "text/html": [
       "<div>\n",
       "<style scoped>\n",
       "    .dataframe tbody tr th:only-of-type {\n",
       "        vertical-align: middle;\n",
       "    }\n",
       "\n",
       "    .dataframe tbody tr th {\n",
       "        vertical-align: top;\n",
       "    }\n",
       "\n",
       "    .dataframe thead th {\n",
       "        text-align: right;\n",
       "    }\n",
       "</style>\n",
       "<table border=\"1\" class=\"dataframe\">\n",
       "  <thead>\n",
       "    <tr style=\"text-align: right;\">\n",
       "      <th></th>\n",
       "      <th>article_id</th>\n",
       "      <th>url</th>\n",
       "      <th>title</th>\n",
       "      <th>tokens</th>\n",
       "      <th>lower_title</th>\n",
       "    </tr>\n",
       "  </thead>\n",
       "  <tbody>\n",
       "    <tr>\n",
       "      <th>1042</th>\n",
       "      <td>35797415</td>\n",
       "      <td>https://en.wikipedia.org/wiki/South%20African%...</td>\n",
       "      <td>South African labour law</td>\n",
       "      <td>51609</td>\n",
       "      <td>south african labour law</td>\n",
       "    </tr>\n",
       "    <tr>\n",
       "      <th>39508</th>\n",
       "      <td>49770190</td>\n",
       "      <td>https://en.wikipedia.org/wiki/1917%20New%20Yea...</td>\n",
       "      <td>1917 New Year Honours</td>\n",
       "      <td>50575</td>\n",
       "      <td>1917 new year honours</td>\n",
       "    </tr>\n",
       "    <tr>\n",
       "      <th>3852</th>\n",
       "      <td>47807310</td>\n",
       "      <td>https://en.wikipedia.org/wiki/1943%20Birthday%...</td>\n",
       "      <td>1943 Birthday Honours</td>\n",
       "      <td>49553</td>\n",
       "      <td>1943 birthday honours</td>\n",
       "    </tr>\n",
       "    <tr>\n",
       "      <th>117787</th>\n",
       "      <td>47333075</td>\n",
       "      <td>https://en.wikipedia.org/wiki/Var%C3%A8se%20Sa...</td>\n",
       "      <td>Varèse Sarabande albums discography</td>\n",
       "      <td>46566</td>\n",
       "      <td>varèse sarabande albums discography</td>\n",
       "    </tr>\n",
       "    <tr>\n",
       "      <th>75220</th>\n",
       "      <td>7285706</td>\n",
       "      <td>https://en.wikipedia.org/wiki/Municipal%20hist...</td>\n",
       "      <td>Municipal history of Quebec</td>\n",
       "      <td>45717</td>\n",
       "      <td>municipal history of quebec</td>\n",
       "    </tr>\n",
       "    <tr>\n",
       "      <th>...</th>\n",
       "      <td>...</td>\n",
       "      <td>...</td>\n",
       "      <td>...</td>\n",
       "      <td>...</td>\n",
       "      <td>...</td>\n",
       "    </tr>\n",
       "    <tr>\n",
       "      <th>101402</th>\n",
       "      <td>147778</td>\n",
       "      <td>https://en.wikipedia.org/wiki/Music%20of%20Japan</td>\n",
       "      <td>Music of Japan</td>\n",
       "      <td>5001</td>\n",
       "      <td>music of japan</td>\n",
       "    </tr>\n",
       "    <tr>\n",
       "      <th>76948</th>\n",
       "      <td>1686010</td>\n",
       "      <td>https://en.wikipedia.org/wiki/Procession</td>\n",
       "      <td>Procession</td>\n",
       "      <td>5001</td>\n",
       "      <td>procession</td>\n",
       "    </tr>\n",
       "    <tr>\n",
       "      <th>49951</th>\n",
       "      <td>7031132</td>\n",
       "      <td>https://en.wikipedia.org/wiki/Perfume%3A%20The...</td>\n",
       "      <td>Perfume: The Story of a Murderer (film)</td>\n",
       "      <td>5001</td>\n",
       "      <td>perfume: the story of a murderer (film)</td>\n",
       "    </tr>\n",
       "    <tr>\n",
       "      <th>6035</th>\n",
       "      <td>11494669</td>\n",
       "      <td>https://en.wikipedia.org/wiki/2005%20New%20Yor...</td>\n",
       "      <td>2005 New York Yankees season</td>\n",
       "      <td>5001</td>\n",
       "      <td>2005 new york yankees season</td>\n",
       "    </tr>\n",
       "    <tr>\n",
       "      <th>40340</th>\n",
       "      <td>48145</td>\n",
       "      <td>https://en.wikipedia.org/wiki/Bebop</td>\n",
       "      <td>Bebop</td>\n",
       "      <td>5001</td>\n",
       "      <td>bebop</td>\n",
       "    </tr>\n",
       "  </tbody>\n",
       "</table>\n",
       "<p>42025 rows × 5 columns</p>\n",
       "</div>"
      ],
      "text/plain": [
       "       article_id                                                url  \\\n",
       "1042     35797415  https://en.wikipedia.org/wiki/South%20African%...   \n",
       "39508    49770190  https://en.wikipedia.org/wiki/1917%20New%20Yea...   \n",
       "3852     47807310  https://en.wikipedia.org/wiki/1943%20Birthday%...   \n",
       "117787   47333075  https://en.wikipedia.org/wiki/Var%C3%A8se%20Sa...   \n",
       "75220     7285706  https://en.wikipedia.org/wiki/Municipal%20hist...   \n",
       "...           ...                                                ...   \n",
       "101402     147778   https://en.wikipedia.org/wiki/Music%20of%20Japan   \n",
       "76948     1686010           https://en.wikipedia.org/wiki/Procession   \n",
       "49951     7031132  https://en.wikipedia.org/wiki/Perfume%3A%20The...   \n",
       "6035     11494669  https://en.wikipedia.org/wiki/2005%20New%20Yor...   \n",
       "40340       48145                https://en.wikipedia.org/wiki/Bebop   \n",
       "\n",
       "                                          title  tokens  \\\n",
       "1042                   South African labour law   51609   \n",
       "39508                     1917 New Year Honours   50575   \n",
       "3852                      1943 Birthday Honours   49553   \n",
       "117787      Varèse Sarabande albums discography   46566   \n",
       "75220               Municipal history of Quebec   45717   \n",
       "...                                         ...     ...   \n",
       "101402                           Music of Japan    5001   \n",
       "76948                                Procession    5001   \n",
       "49951   Perfume: The Story of a Murderer (film)    5001   \n",
       "6035               2005 New York Yankees season    5001   \n",
       "40340                                     Bebop    5001   \n",
       "\n",
       "                                    lower_title  \n",
       "1042                   south african labour law  \n",
       "39508                     1917 new year honours  \n",
       "3852                      1943 birthday honours  \n",
       "117787      varèse sarabande albums discography  \n",
       "75220               municipal history of quebec  \n",
       "...                                         ...  \n",
       "101402                           music of japan  \n",
       "76948                                procession  \n",
       "49951   perfume: the story of a murderer (film)  \n",
       "6035               2005 new york yankees season  \n",
       "40340                                     bebop  \n",
       "\n",
       "[42025 rows x 5 columns]"
      ]
     },
     "execution_count": 7,
     "metadata": {},
     "output_type": "execute_result"
    }
   ],
   "source": [
    "a"
   ]
  },
  {
   "cell_type": "code",
   "execution_count": null,
   "metadata": {},
   "outputs": [],
   "source": [
    "# s = pd.DataFrame(chunks).sample().iloc[0]['chunk']\n",
    "# start = 0\n",
    "# end = 100\n",
    "# while end < len(s):\n",
    "#     print(s[start : end])\n",
    "#     start = end\n",
    "#     end += 100"
   ]
  }
 ],
 "metadata": {
  "kernelspec": {
   "display_name": "base",
   "language": "python",
   "name": "python3"
  },
  "language_info": {
   "codemirror_mode": {
    "name": "ipython",
    "version": 3
   },
   "file_extension": ".py",
   "mimetype": "text/x-python",
   "name": "python",
   "nbconvert_exporter": "python",
   "pygments_lexer": "ipython3",
   "version": "3.12.4"
  }
 },
 "nbformat": 4,
 "nbformat_minor": 2
}
