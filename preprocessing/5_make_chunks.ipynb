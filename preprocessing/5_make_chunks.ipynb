{
 "cells": [
  {
   "cell_type": "code",
   "execution_count": 1,
   "id": "e3944ec4",
   "metadata": {},
   "outputs": [],
   "source": [
    "import pandas as pd"
   ]
  },
  {
   "cell_type": "code",
   "execution_count": 2,
   "id": "36b0d8ab",
   "metadata": {},
   "outputs": [],
   "source": [
    "MIN_COUNT = 25\n",
    "STRIDE = 20\n",
    "LENGTH = 40"
   ]
  },
  {
   "cell_type": "code",
   "execution_count": 3,
   "id": "5e5a8307",
   "metadata": {},
   "outputs": [],
   "source": [
    "df = pd.read_parquet(f'data/combined_articles_top{MIN_COUNT}_len{LENGTH}_stride{STRIDE}.parquet')"
   ]
  },
  {
   "cell_type": "code",
   "execution_count": 4,
   "id": "a2ace055",
   "metadata": {},
   "outputs": [
    {
     "data": {
      "text/html": [
       "<div>\n",
       "<style scoped>\n",
       "    .dataframe tbody tr th:only-of-type {\n",
       "        vertical-align: middle;\n",
       "    }\n",
       "\n",
       "    .dataframe tbody tr th {\n",
       "        vertical-align: top;\n",
       "    }\n",
       "\n",
       "    .dataframe thead th {\n",
       "        text-align: right;\n",
       "    }\n",
       "</style>\n",
       "<table border=\"1\" class=\"dataframe\">\n",
       "  <thead>\n",
       "    <tr style=\"text-align: right;\">\n",
       "      <th></th>\n",
       "      <th>article_id</th>\n",
       "      <th>url</th>\n",
       "      <th>title</th>\n",
       "      <th>text</th>\n",
       "      <th>lower_title</th>\n",
       "      <th>count</th>\n",
       "    </tr>\n",
       "  </thead>\n",
       "  <tbody>\n",
       "  </tbody>\n",
       "</table>\n",
       "</div>"
      ],
      "text/plain": [
       "Empty DataFrame\n",
       "Columns: [article_id, url, title, text, lower_title, count]\n",
       "Index: []"
      ]
     },
     "execution_count": 4,
     "metadata": {},
     "output_type": "execute_result"
    }
   ],
   "source": [
    "df[df.text.isna()]"
   ]
  },
  {
   "cell_type": "code",
   "execution_count": 5,
   "id": "458bdac7",
   "metadata": {},
   "outputs": [
    {
     "name": "stdout",
     "output_type": "stream",
     "text": [
      "processed article: 0\n",
      "processed article: 10000\n",
      "processed article: 20000\n",
      "processed article: 30000\n",
      "processed article: 40000\n",
      "processed article: 50000\n",
      "processed article: 60000\n",
      "processed article: 70000\n",
      "processed article: 80000\n",
      "processed article: 90000\n"
     ]
    }
   ],
   "source": [
    "import json \n",
    "\n",
    "buffer = [] \n",
    "BUFFER_SIZE = 500000\n",
    "chunk_id = 0\n",
    "articles_processed = 0\n",
    "\n",
    "def clear_buffer(buffer):\n",
    "    with open(f'data/combined_chunks_top{MIN_COUNT}_len{LENGTH}_stride{STRIDE}.jsonl', 'a', encoding='utf-8') as file:\n",
    "        for row in buffer:\n",
    "            file.write(json.dumps(row) + '\\n')\n",
    "    return []\n",
    "\n",
    "for _, row in df.iterrows():\n",
    "    if articles_processed % 10000 == 0:\n",
    "        print('processed article:', articles_processed)\n",
    "    start = 0\n",
    "    end = LENGTH\n",
    "    text = row['text'].split()\n",
    "    while end < len(text):\n",
    "        buffer.append({\n",
    "            'article_id': row['article_id'], \n",
    "            'chunk_id': chunk_id, \n",
    "            'chunk': ' '.join(text[start : end])\n",
    "        })\n",
    "        chunk_id += 1\n",
    "        \n",
    "        start += STRIDE \n",
    "        end += STRIDE\n",
    "\n",
    "        if len(buffer) >= BUFFER_SIZE:\n",
    "            buffer = clear_buffer(buffer)\n",
    "    \n",
    "    if start <= len(text):\n",
    "        buffer.append({\n",
    "            'article_id': row['article_id'], \n",
    "            'chunk_id': chunk_id, \n",
    "            'chunk': ' '.join(text[start :])\n",
    "        })\n",
    "        chunk_id += 1\n",
    "\n",
    "    articles_processed += 1\n",
    "\n",
    "if buffer:\n",
    "    buffer = clear_buffer(buffer)"
   ]
  }
 ],
 "metadata": {
  "kernelspec": {
   "display_name": "base",
   "language": "python",
   "name": "python3"
  },
  "language_info": {
   "codemirror_mode": {
    "name": "ipython",
    "version": 3
   },
   "file_extension": ".py",
   "mimetype": "text/x-python",
   "name": "python",
   "nbconvert_exporter": "python",
   "pygments_lexer": "ipython3",
   "version": "3.12.4"
  }
 },
 "nbformat": 4,
 "nbformat_minor": 5
}
