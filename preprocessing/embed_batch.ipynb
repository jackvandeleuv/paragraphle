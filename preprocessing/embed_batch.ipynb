{
 "cells": [
  {
   "cell_type": "markdown",
   "id": "0c24ccbb",
   "metadata": {},
   "source": [
    "50,000 is batch max"
   ]
  },
  {
   "cell_type": "code",
   "execution_count": 3,
   "id": "164cd301",
   "metadata": {},
   "outputs": [
    {
     "name": "stdout",
     "output_type": "stream",
     "text": [
      "350000 400000\n",
      "400000 450000\n",
      "450000 500000\n",
      "500000 550000\n",
      "550000 600000\n",
      "600000 650000\n",
      "650000 700000\n"
     ]
    }
   ],
   "source": [
    "import json\n",
    "import pandas as pd\n",
    "\n",
    "from openai import OpenAI\n",
    "import os\n",
    "from dotenv import load_dotenv\n",
    "\n",
    "load_dotenv()\n",
    "\n",
    "size = 50000\n",
    "start = 350000\n",
    "end = start + size\n",
    "\n",
    "for _ in range(7):\n",
    "    print(start, end)\n",
    "\n",
    "    pd.read_parquet('data/chunks_top20_len40_stride40.parquet').iloc[start : end].to_parquet(f'data/chunks_top20_len40_stride40_{start}_{end}.parquet')\n",
    "\n",
    "    chunks = pd.read_parquet(f'data/chunks_top20_len40_stride40_{start}_{end}.parquet')\n",
    "\n",
    "    with open(f'data/chunks_top20_len40_stride40_{start}_{end}.jsonl', 'w') as file:\n",
    "        for row in chunks.to_dict(orient='records'):\n",
    "            file.write(json.dumps(\n",
    "                {\n",
    "                    \"custom_id\": f\"{start}_{end}_{row['chunk_id']}\",\n",
    "                    \"method\": \"POST\",\n",
    "                    \"url\": \"/v1/embeddings\",\n",
    "                    \"body\": {\n",
    "                        \"model\": \"text-embedding-3-small\",\n",
    "                        \"input\": row['chunk'],\n",
    "                    }\n",
    "                }\n",
    "            ) + '\\n')\n",
    "\n",
    "    client = OpenAI(api_key=os.environ.get('OPENAI_API_KEY'))\n",
    "\n",
    "    batch_input_file = client.files.create(\n",
    "        file=open(f\"data/chunks_top20_len40_stride40_{start}_{end}.jsonl\", \"rb\"),\n",
    "        purpose=\"batch\"\n",
    "    )\n",
    "\n",
    "    batch_input_file_id = batch_input_file.id\n",
    "\n",
    "    client.batches.create(\n",
    "        input_file_id=batch_input_file_id,\n",
    "        endpoint=\"/v1/embeddings\",\n",
    "        completion_window=\"24h\",\n",
    "        metadata={\n",
    "            \"description\": \"nightly eval job\"\n",
    "        }\n",
    "    )\n",
    "\n",
    "    start += size\n",
    "    end += size\n"
   ]
  }
 ],
 "metadata": {
  "kernelspec": {
   "display_name": "base",
   "language": "python",
   "name": "python3"
  },
  "language_info": {
   "codemirror_mode": {
    "name": "ipython",
    "version": 3
   },
   "file_extension": ".py",
   "mimetype": "text/x-python",
   "name": "python",
   "nbconvert_exporter": "python",
   "pygments_lexer": "ipython3",
   "version": "3.12.4"
  }
 },
 "nbformat": 4,
 "nbformat_minor": 5
}
