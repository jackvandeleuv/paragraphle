{
 "cells": [
  {
   "cell_type": "code",
   "execution_count": 3,
   "metadata": {},
   "outputs": [
    {
     "name": "stdout",
     "output_type": "stream",
     "text": [
      "train-00000-of-00041.jsonl\n",
      "train-00001-of-00041.jsonl\n"
     ]
    }
   ],
   "source": [
    "import json\n",
    "import sqlite3\n",
    "import os \n",
    "\n",
    "FROM_DIR = 'transformed'\n",
    "\n",
    "conn = sqlite3.Connection('data.db')\n",
    "cur = conn.cursor()\n",
    "\n",
    "# create_embeddings = \"\"\"\n",
    "#     CREATE TABLE embeddings (\n",
    "#         id INTEGER PRIMARY KEY,         \n",
    "#         vector TEXT              \n",
    "#     );\n",
    "# \"\"\"\n",
    "# cur.execute(create_embeddings)\n",
    "# conn.commit()\n",
    "\n",
    "insert_embeddings = \"\"\"\n",
    "    INSERT INTO embeddings (id, vector) VALUES (?, ?);\n",
    "\"\"\"\n",
    "\n",
    "for file_name in os.listdir(FROM_DIR):\n",
    "    print(file_name)\n",
    "    with open(os.path.join(FROM_DIR, file_name), 'rt') as file:\n",
    "        for line in file:\n",
    "            j = json.loads(line)\n",
    "            cur.execute(\n",
    "                insert_embeddings, \n",
    "                (\n",
    "                    j['id'], \n",
    "                    json.dumps(j['embedding'])\n",
    "                )\n",
    "            )\n",
    "            conn.commit()"
   ]
  },
  {
   "cell_type": "code",
   "execution_count": null,
   "metadata": {},
   "outputs": [
    {
     "name": "stdout",
     "output_type": "stream",
     "text": [
      "train-00000-of-00041.parquet\n",
      "train-00001-of-00041.parquet\n"
     ]
    }
   ],
   "source": [
    "import json\n",
    "import sqlite3\n",
    "import os \n",
    "import pandas as pd\n",
    "\n",
    "FROM_DIR = 'source'\n",
    "\n",
    "conn = sqlite3.Connection('data.db')\n",
    "cur = conn.cursor()\n",
    "\n",
    "# create_articles = \"\"\"\n",
    "#     CREATE TABLE articles (\n",
    "#         id INTEGER PRIMARY KEY,         \n",
    "#         url TEXT,\n",
    "#         title TEXT\n",
    "#     );\n",
    "# \"\"\"\n",
    "# cur.execute(create_articles)\n",
    "# conn.commit()\n",
    "\n",
    "insert_articles = \"\"\"\n",
    "    INSERT INTO articles (id, url, title) VALUES (?, ?, ?);\n",
    "\"\"\"\n",
    "\n",
    "i = 0\n",
    "j = 0\n",
    "WINDOW = 1000\n",
    "buffer = []\n",
    "for file_name in os.listdir(FROM_DIR):\n",
    "    print(file_name)\n",
    "    df = pd.read_parquet(os.path.join(FROM_DIR, file_name))\n",
    "    while j + WINDOW < len(df):\n",
    "        data = tuple([tuple(x[: 3]) for x in df.iloc[j : j + WINDOW].values])\n",
    "        cur.executemany(insert_articles, data)\n",
    "        conn.commit()\n",
    "        j += WINDOW\n",
    "    if j < len(df):\n",
    "        data = tuple([tuple(x[: 3]) for x in df.iloc[j : j + WINDOW].values])\n",
    "        cur.executemany(insert_articles, data)    \n",
    "        conn.commit()\n",
    "    i += 1\n",
    "    if i == 2:\n",
    "        break"
   ]
  }
 ],
 "metadata": {
  "kernelspec": {
   "display_name": "base",
   "language": "python",
   "name": "python3"
  },
  "language_info": {
   "codemirror_mode": {
    "name": "ipython",
    "version": 3
   },
   "file_extension": ".py",
   "mimetype": "text/x-python",
   "name": "python",
   "nbconvert_exporter": "python",
   "pygments_lexer": "ipython3",
   "version": "3.12.4"
  }
 },
 "nbformat": 4,
 "nbformat_minor": 2
}
