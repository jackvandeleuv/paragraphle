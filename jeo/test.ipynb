{
 "cells": [
  {
   "cell_type": "code",
   "execution_count": 28,
   "metadata": {},
   "outputs": [],
   "source": [
    "import pandas as pd\n",
    "\n",
    "df = pd.read_csv('master_season1-35.tsv', sep='\\t')"
   ]
  },
  {
   "cell_type": "code",
   "execution_count": 29,
   "metadata": {},
   "outputs": [],
   "source": [
    "df.columns = [x.strip() for x in df.columns]"
   ]
  },
  {
   "cell_type": "code",
   "execution_count": 33,
   "metadata": {},
   "outputs": [],
   "source": [
    "df['year'] = df['air_date'].apply(lambda x: int(x[: 4]))"
   ]
  },
  {
   "cell_type": "code",
   "execution_count": 34,
   "metadata": {},
   "outputs": [],
   "source": [
    "df = df[df.year > 2015]"
   ]
  },
  {
   "cell_type": "code",
   "execution_count": 37,
   "metadata": {},
   "outputs": [
    {
     "data": {
      "text/html": [
       "<div>\n",
       "<style scoped>\n",
       "    .dataframe tbody tr th:only-of-type {\n",
       "        vertical-align: middle;\n",
       "    }\n",
       "\n",
       "    .dataframe tbody tr th {\n",
       "        vertical-align: top;\n",
       "    }\n",
       "\n",
       "    .dataframe thead th {\n",
       "        text-align: right;\n",
       "    }\n",
       "</style>\n",
       "<table border=\"1\" class=\"dataframe\">\n",
       "  <thead>\n",
       "    <tr style=\"text-align: right;\">\n",
       "      <th></th>\n",
       "      <th>round</th>\n",
       "      <th>value</th>\n",
       "      <th>daily_double</th>\n",
       "      <th>category</th>\n",
       "      <th>comments</th>\n",
       "      <th>answer</th>\n",
       "      <th>question</th>\n",
       "      <th>air_date</th>\n",
       "      <th>notes</th>\n",
       "      <th>year</th>\n",
       "    </tr>\n",
       "  </thead>\n",
       "  <tbody>\n",
       "    <tr>\n",
       "      <th>329060</th>\n",
       "      <td>1</td>\n",
       "      <td>1000</td>\n",
       "      <td>no</td>\n",
       "      <td>TV REBOOTS &amp; REVIVALS</td>\n",
       "      <td>-</td>\n",
       "      <td>Original star Tori Spelling was also in the 20...</td>\n",
       "      <td>Mother, May I Sleep With Danger?</td>\n",
       "      <td>2017-12-13</td>\n",
       "      <td>-</td>\n",
       "      <td>2017</td>\n",
       "    </tr>\n",
       "  </tbody>\n",
       "</table>\n",
       "</div>"
      ],
      "text/plain": [
       "        round  value daily_double               category comments  \\\n",
       "329060      1   1000           no  TV REBOOTS & REVIVALS        -   \n",
       "\n",
       "                                                   answer  \\\n",
       "329060  Original star Tori Spelling was also in the 20...   \n",
       "\n",
       "                                question    air_date notes  year  \n",
       "329060  Mother, May I Sleep With Danger?  2017-12-13     -  2017  "
      ]
     },
     "execution_count": 37,
     "metadata": {},
     "output_type": "execute_result"
    }
   ],
   "source": [
    "df.sample()"
   ]
  },
  {
   "cell_type": "code",
   "execution_count": 42,
   "metadata": {},
   "outputs": [
    {
     "data": {
      "text/plain": [
       "category\n",
       "AMERICAN HISTORY         8\n",
       "WORLD HISTORY            8\n",
       "ORGANIZATIONS            7\n",
       "NONFICTION               7\n",
       "ART & ARTISTS            6\n",
       "EUROPEAN HISTORY         5\n",
       "WORD ORIGINS             5\n",
       "BODIES OF WATER          5\n",
       "EPONYMS                  4\n",
       "GOVERNMENT & POLITICS    4\n",
       "WORLD CAPITALS           4\n",
       "LIT-POURRI               4\n",
       "AWARDS & HONORS          4\n",
       "TRANSPORTATION           4\n",
       "SCIENCE                  4\n",
       "COMMUNICATION            4\n",
       "EXPLORERS                4\n",
       "GEOGRAPHY                3\n",
       "MYTHOLOGY                3\n",
       "RELIGION                 3\n",
       "dtype: int64"
      ]
     },
     "execution_count": 42,
     "metadata": {},
     "output_type": "execute_result"
    }
   ],
   "source": [
    "df[df.daily_double == \"yes\"].groupby('category').size().sort_values(ascending=False).head(20)"
   ]
  },
  {
   "cell_type": "code",
   "execution_count": 56,
   "metadata": {},
   "outputs": [
    {
     "data": {
      "text/plain": [
       "Index(['-ISMS & -OLOGIES', '-OLOGIES', '10-LETTER WORDS', '11-LETTER WORDS',\n",
       "       '12-LETTER WORDS', '13-LETTER WORDS', '14-LETTER WORDS',\n",
       "       '15-LETTER WORDS', '1960s AMERICA', '19th CENTURY AMERICA',\n",
       "       ...\n",
       "       '\\\"F\"IVE-LETTER WORDS', '\\\"IN\" THE DICTIONARY', '\\\"J\"EOGRAPHY',\n",
       "       '\\\"M\"TERTAINMENT', '\\\"O\"POURRI', '\\\"S\" WORDS', '\\\"V\"ACATION SPOTS',\n",
       "       '\\\"V\"OCABULARY', '\\'90s MUSIC', '____ & ____'],\n",
       "      dtype='object', name='category', length=642)"
      ]
     },
     "execution_count": 56,
     "metadata": {},
     "output_type": "execute_result"
    }
   ],
   "source": [
    "common_categories = df.groupby('category').size()\n",
    "common_categories = common_categories[common_categories > 6].index\n",
    "common_categories"
   ]
  },
  {
   "cell_type": "code",
   "execution_count": 57,
   "metadata": {},
   "outputs": [
    {
     "data": {
      "text/plain": [
       "category\n",
       "NEW WORDS IN THE MERRIAM-WEBSTER DICTIONARY    1400.000000\n",
       "3 LITTLE WORDS                                 1400.000000\n",
       "15-LETTER WORDS                                1350.000000\n",
       "ART FOR ART'S SAKE                             1314.285714\n",
       "ENDS IN \"FF\\\"                                  1300.000000\n",
       "MUSICIANS' MEMOIRS                             1300.000000\n",
       "THEY COME IN PAIRS                             1300.000000\n",
       "RELIGIOUS MATTERS                              1300.000000\n",
       "U.S. MUSEUMS                                   1288.888889\n",
       "OXYMORONS                                      1288.888889\n",
       "1960s AMERICA                                  1257.142857\n",
       "PEOPLE IN HISTORY                              1250.000000\n",
       "ROADS SCHOLAR                                  1250.000000\n",
       "AROUND THE PACIFIC                             1250.000000\n",
       "PSYCHOLOGY                                     1250.000000\n",
       "POP CULTURE DOUBLE TALK                        1250.000000\n",
       "\\\"O\"POURRI                                     1250.000000\n",
       "U.S. FIRSTS                                    1244.444444\n",
       "SCIENCE NEWS                                   1244.444444\n",
       "AFRICAN-AMERICAN HISTORY                       1244.444444\n",
       "Name: value, dtype: float64"
      ]
     },
     "execution_count": 57,
     "metadata": {},
     "output_type": "execute_result"
    }
   ],
   "source": [
    "\n",
    "df[(df.daily_double == \"no\") & (df.category.isin(common_categories))].groupby('category').value.mean().sort_values(ascending=False).head(20)"
   ]
  },
  {
   "cell_type": "code",
   "execution_count": 27,
   "metadata": {},
   "outputs": [
    {
     "data": {
      "text/plain": [
       "Value\n",
       "$5,000      231\n",
       "$2,500      232\n",
       "$1,600      239\n",
       "$4,000      349\n",
       "$1,200      441\n",
       "$1,500      546\n",
       "$3,000      769\n",
       "$2,000     1586\n",
       "$1,000     2101\n",
       "$300       8663\n",
       "$500       9016\n",
       "$100       9029\n",
       "$1600     10801\n",
       "$2000     11243\n",
       "$1200     11331\n",
       "$1000     19539\n",
       "$600      20377\n",
       "$200      30455\n",
       "$800      31860\n",
       "$400      42244\n",
       "dtype: int64"
      ]
     },
     "execution_count": 27,
     "metadata": {},
     "output_type": "execute_result"
    }
   ],
   "source": [
    "df.groupby('Value').size().sort_values().tail(20)"
   ]
  }
 ],
 "metadata": {
  "kernelspec": {
   "display_name": "base",
   "language": "python",
   "name": "python3"
  },
  "language_info": {
   "codemirror_mode": {
    "name": "ipython",
    "version": 3
   },
   "file_extension": ".py",
   "mimetype": "text/x-python",
   "name": "python",
   "nbconvert_exporter": "python",
   "pygments_lexer": "ipython3",
   "version": "3.12.4"
  }
 },
 "nbformat": 4,
 "nbformat_minor": 2
}
