{
 "cells": [
  {
   "cell_type": "code",
   "execution_count": 1,
   "metadata": {},
   "outputs": [],
   "source": [
    "import pandas as pd \n",
    "from dotenv import load_dotenv\n",
    "import json\n",
    "from openai import OpenAI\n",
    "import os \n",
    "\n",
    "load_dotenv()\n",
    "\n",
    "\n",
    "def embed_chunk(df, i, client, window):\n",
    "    window = df.iloc[i : i + window]\n",
    "    ids = window['id'].values.tolist()\n",
    "\n",
    "    result = client.embeddings.create(\n",
    "        input=window['text'].values.tolist(),\n",
    "        model=\"text-embedding-3-small\"\n",
    "    )\n",
    "\n",
    "    return [\n",
    "        {'id': ids[i], 'embedding': x.embedding} \n",
    "        for i, x in enumerate(result.data)\n",
    "    ]\n",
    "    \n",
    "\n",
    "def embed_df(df, client, file_name):\n",
    "    WINDOW = 1000\n",
    "\n",
    "    embeddings = []\n",
    "    i = 0\n",
    "    while i + WINDOW < len(df):\n",
    "        embeddings.extend(embed_chunk(df, i, client, WINDOW))\n",
    "        i += WINDOW\n",
    "\n",
    "    if i < len(df):\n",
    "        embeddings.extend(embed_chunk(df, i, client, WINDOW))\n",
    "\n",
    "    del(df)\n",
    "\n",
    "    output_name = file_name.split('.', 1)[0] + '.jsonl'\n",
    "\n",
    "    with open('transformed/' + output_name, 'wt') as file:\n",
    "        for row in embeddings:\n",
    "            file.write(json.dumps(row) + '\\n')\n",
    "\n",
    "    del(embeddings)\n",
    "\n",
    "\n",
    "def embed_file(file_name: str, directory: str):\n",
    "    TOKEN_LIMIT = 50\n",
    "    df = pd.read_parquet(os.path.join(directory, file_name))\n",
    "\n",
    "    df['text'] = df.text.apply(lambda x: ' '.join(x.split()[: TOKEN_LIMIT]))\n",
    "\n",
    "    client = OpenAI(api_key=os.environ.get(\"API_KEY\"))\n",
    "    embed_df(df, client, file_name)"
   ]
  },
  {
   "cell_type": "code",
   "execution_count": 2,
   "metadata": {},
   "outputs": [
    {
     "name": "stdout",
     "output_type": "stream",
     "text": [
      "train-00000-of-00041.parquet\n",
      "train-00001-of-00041.parquet\n"
     ]
    }
   ],
   "source": [
    "i = 0\n",
    "for file_name in os.listdir('source'):\n",
    "    print(file_name)\n",
    "    embed_file(file_name, 'source')\n",
    "    i += 1\n",
    "    if i == 2:\n",
    "        break"
   ]
  }
 ],
 "metadata": {
  "kernelspec": {
   "display_name": "base",
   "language": "python",
   "name": "python3"
  },
  "language_info": {
   "codemirror_mode": {
    "name": "ipython",
    "version": 3
   },
   "file_extension": ".py",
   "mimetype": "text/x-python",
   "name": "python",
   "nbconvert_exporter": "python",
   "pygments_lexer": "ipython3",
   "version": "3.12.4"
  }
 },
 "nbformat": 4,
 "nbformat_minor": 2
}
